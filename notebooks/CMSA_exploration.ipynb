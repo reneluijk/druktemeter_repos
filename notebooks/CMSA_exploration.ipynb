{
 "cells": [
  {
   "cell_type": "code",
   "execution_count": 3,
   "metadata": {
    "collapsed": true
   },
   "outputs": [],
   "source": [
    "import pandas as pd\n",
    "import os"
   ]
  },
  {
   "cell_type": "code",
   "execution_count": 4,
   "metadata": {
    "collapsed": false
   },
   "outputs": [],
   "source": [
    "rel_path = '../../druktemeter_ftp/raw_data/CMSA/InControl@Wallen/'\n",
    "dir_file_list = os.listdir(rel_path)"
   ]
  },
  {
   "cell_type": "code",
   "execution_count": 5,
   "metadata": {
    "collapsed": false
   },
   "outputs": [],
   "source": [
    "locations = [1,2,3,4]\n",
    "\n",
    "df_cam_loc = pd.DataFrame()\n",
    "df_rs = pd.DataFrame()\n",
    "for location in locations:\n",
    "    loc_files = [file for file in dir_file_list if file.startswith('Cam_loc{}'.format(location))]\n",
    "    rs_files = [file for file in dir_file_list if file.startswith('RS{}'.format(location))]\n",
    "    for file in loc_files:\n",
    "        df_temp = pd.read_csv(rel_path + file, usecols=[0,1,2])\n",
    "        df_cam_loc = pd.concat([df_cam_loc, df_temp])\n",
    "    for file in rs_files: \n",
    "        df_temp = pd.read_csv(rel_path + file, usecols=[0,1,2,3])\n",
    "        df_rs = pd.concat([df_rs, df_temp])\n",
    "    df_cam_loc.reset_index(drop=True, inplace=True)\n",
    "    df_rs.reset_index(drop=True, inplace=True)\n",
    "    df_cam_loc.to_csv('../../druktemeter_ftp/parsed_data/Cam_loc_{}_all.csv'.format(location), index=False)\n",
    "    df_rs.to_csv('../../druktemeter_ftp/parsed_data/RS_{}_all.csv'.format(location), index=False)"
   ]
  },
  {
   "cell_type": "code",
   "execution_count": null,
   "metadata": {
    "collapsed": true
   },
   "outputs": [],
   "source": []
  }
 ],
 "metadata": {
  "anaconda-cloud": {},
  "kernelspec": {
   "display_name": "Python [Root]",
   "language": "python",
   "name": "Python [Root]"
  },
  "language_info": {
   "codemirror_mode": {
    "name": "ipython",
    "version": 3
   },
   "file_extension": ".py",
   "mimetype": "text/x-python",
   "name": "python",
   "nbconvert_exporter": "python",
   "pygments_lexer": "ipython3",
   "version": "3.5.2"
  }
 },
 "nbformat": 4,
 "nbformat_minor": 0
}
