{
 "cells": [
  {
   "cell_type": "code",
   "execution_count": 1,
   "metadata": {
    "collapsed": true
   },
   "outputs": [],
   "source": [
    "import pandas as pd"
   ]
  },
  {
   "cell_type": "code",
   "execution_count": 4,
   "metadata": {
    "collapsed": true
   },
   "outputs": [],
   "source": [
    "rel_path = '../../druktemeter_ftp/raw_data/GVB/'\n",
    "ritten_file = 'GVB ritten juni 2016.xlsx'\n",
    "werkdag_aantal_file = 'Werkdag_aantal.xlsx'\n",
    "ref_tijdstippen_file = 'referentie_tijdstippen.xlsx'\n",
    "ortnr_map_file = 'Ortnr - coordinaten (ingangsdatum dec 2015).xlsx'"
   ]
  },
  {
   "cell_type": "code",
   "execution_count": 23,
   "metadata": {
    "collapsed": false
   },
   "outputs": [],
   "source": [
    "ritten = pd.read_excel(rel_path + ritten_file)\n",
    "werkdag_aantal = pd.read_excel(rel_path + werkdag_aantal_file)\n",
    "ref_tijdstippen = pd.read_excel(rel_path + ref_tijdstippen_file)\n",
    "ortnr_map = pd.read_excel(rel_path + ortnr_map_file)"
   ]
  },
  {
   "cell_type": "code",
   "execution_count": 24,
   "metadata": {
    "collapsed": true
   },
   "outputs": [],
   "source": [
    "ritten.rename(columns={'OrtNr':'OrtNr_in', 'haltenaam':'Haltenaam_in'}, inplace=True)\n",
    "\n",
    "ritten = ritten.merge(ortnr_map[['OrtNr','X_COORDINAAT','Y_COORDINAAT']], left_on='OrtNr_in', right_on='OrtNr')\n",
    "ritten.drop(['OrtNr'],axis=1,inplace=True)\n",
    "ritten.rename(columns={'X_COORDINAAT':'X_COORDINAAT_in', 'Y_COORDINAAT':'Y_COORDINAAT_in'}, inplace=True)\n",
    "\n",
    "ritten = ritten.merge(ortnr_map, left_on='OrtNr_uit', right_on='OrtNr')\n",
    "ritten.drop(['OrtNr'],axis=1,inplace=True)\n",
    "ritten.rename(columns={'X_COORDINAAT':'X_COORDINAAT_uit', 'Y_COORDINAAT':'Y_COORDINAAT_uit'}, inplace=True)"
   ]
  },
  {
   "cell_type": "code",
   "execution_count": 28,
   "metadata": {
    "collapsed": false
   },
   "outputs": [],
   "source": [
    "ritten.to_csv('../../../playground/data/ritten.csv',index=False) #local directory"
   ]
  }
 ],
 "metadata": {
  "anaconda-cloud": {},
  "kernelspec": {
   "display_name": "Python [Root]",
   "language": "python",
   "name": "Python [Root]"
  },
  "language_info": {
   "codemirror_mode": {
    "name": "ipython",
    "version": 3
   },
   "file_extension": ".py",
   "mimetype": "text/x-python",
   "name": "python",
   "nbconvert_exporter": "python",
   "pygments_lexer": "ipython3",
   "version": "3.5.2"
  }
 },
 "nbformat": 4,
 "nbformat_minor": 0
}
